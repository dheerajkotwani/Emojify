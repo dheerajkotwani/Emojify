{
 "cells": [
  {
   "cell_type": "code",
   "execution_count": 1,
   "metadata": {},
   "outputs": [
    {
     "data": {
      "text/plain": [
       "'c:\\\\users\\\\manshi\\\\appdata\\\\local\\\\programs\\\\python\\\\python38\\\\python.exe'"
      ]
     },
     "execution_count": 1,
     "metadata": {},
     "output_type": "execute_result"
    }
   ],
   "source": [
    "import sys\n",
    "sys.executable"
   ]
  },
  {
   "cell_type": "code",
   "execution_count": 2,
   "metadata": {},
   "outputs": [
    {
     "name": "stdout",
     "output_type": "stream",
     "text": [
      "3.8.7\n"
     ]
    }
   ],
   "source": [
    "from platform import python_version\n",
    "\n",
    "print(python_version())\n"
   ]
  },
  {
   "cell_type": "code",
   "execution_count": 3,
   "metadata": {},
   "outputs": [
    {
     "name": "stdout",
     "output_type": "stream",
     "text": [
      "Collecting emoji\n",
      "  Using cached emoji-0.6.0.tar.gz (51 kB)\n",
      "Building wheels for collected packages: emoji\n",
      "  Building wheel for emoji (setup.py): started\n",
      "  Building wheel for emoji (setup.py): finished with status 'done'\n",
      "  Created wheel for emoji: filename=emoji-0.6.0-py3-none-any.whl size=49714 sha256=b459984da9cc845c536a5f6abfe9bf97d9cf7000a652e6eb7c147cb3d45609d5\n",
      "  Stored in directory: c:\\users\\manshi\\appdata\\local\\pip\\cache\\wheels\\43\\3d\\82\\e7baffa5e86346c6178d7750dba6e8ef063282a37fc563f8f8\n",
      "Successfully built emoji\n",
      "Installing collected packages: emoji\n",
      "Note: you may need to restart the kernel to use updated packages.Successfully installed emoji-0.6.0\n",
      "\n"
     ]
    },
    {
     "name": "stderr",
     "output_type": "stream",
     "text": [
      "WARNING: You are using pip version 20.2.3; however, version 20.3.3 is available.\n",
      "You should consider upgrading via the 'c:\\users\\manshi\\appdata\\local\\programs\\python\\python38\\python.exe -m pip install --upgrade pip' command.\n"
     ]
    }
   ],
   "source": [
    "pip install emoji"
   ]
  },
  {
   "cell_type": "code",
   "execution_count": 4,
   "metadata": {},
   "outputs": [
    {
     "name": "stdout",
     "output_type": "stream",
     "text": [
      "Requirement already satisfied: tensorflow in c:\\users\\manshi\\appdata\\local\\programs\\python\\python38\\lib\\site-packages (2.4.0)\n",
      "Requirement already satisfied: flatbuffers~=1.12.0 in c:\\users\\manshi\\appdata\\local\\programs\\python\\python38\\lib\\site-packages (from tensorflow) (1.12)\n",
      "Requirement already satisfied: wrapt~=1.12.1 in c:\\users\\manshi\\appdata\\local\\programs\\python\\python38\\lib\\site-packages (from tensorflow) (1.12.1)\n",
      "Requirement already satisfied: google-pasta~=0.2 in c:\\users\\manshi\\appdata\\local\\programs\\python\\python38\\lib\\site-packages (from tensorflow) (0.2.0)\n",
      "Requirement already satisfied: protobuf>=3.9.2 in c:\\users\\manshi\\appdata\\local\\programs\\python\\python38\\lib\\site-packages (from tensorflow) (3.14.0)\n",
      "Requirement already satisfied: tensorflow-estimator<2.5.0,>=2.4.0rc0 in c:\\users\\manshi\\appdata\\local\\programs\\python\\python38\\lib\\site-packages (from tensorflow) (2.4.0)\n",
      "Requirement already satisfied: absl-py~=0.10 in c:\\users\\manshi\\appdata\\local\\programs\\python\\python38\\lib\\site-packages (from tensorflow) (0.11.0)\n",
      "Requirement already satisfied: numpy~=1.19.2 in c:\\users\\manshi\\appdata\\local\\programs\\python\\python38\\lib\\site-packages (from tensorflow) (1.19.5)\n",
      "Requirement already satisfied: termcolor~=1.1.0 in c:\\users\\manshi\\appdata\\local\\programs\\python\\python38\\lib\\site-packages (from tensorflow) (1.1.0)\n",
      "Requirement already satisfied: wheel~=0.35 in c:\\users\\manshi\\appdata\\local\\programs\\python\\python38\\lib\\site-packages (from tensorflow) (0.36.2)\n",
      "Requirement already satisfied: tensorboard~=2.4 in c:\\users\\manshi\\appdata\\local\\programs\\python\\python38\\lib\\site-packages (from tensorflow) (2.4.0)\n",
      "Requirement already satisfied: typing-extensions~=3.7.4 in c:\\users\\manshi\\appdata\\local\\programs\\python\\python38\\lib\\site-packages (from tensorflow) (3.7.4.3)\n",
      "Requirement already satisfied: grpcio~=1.32.0 in c:\\users\\manshi\\appdata\\local\\programs\\python\\python38\\lib\\site-packages (from tensorflow) (1.32.0)\n",
      "Requirement already satisfied: keras-preprocessing~=1.1.2 in c:\\users\\manshi\\appdata\\local\\programs\\python\\python38\\lib\\site-packages (from tensorflow) (1.1.2)\n",
      "Requirement already satisfied: astunparse~=1.6.3 in c:\\users\\manshi\\appdata\\local\\programs\\python\\python38\\lib\\site-packages (from tensorflow) (1.6.3)\n",
      "Requirement already satisfied: six~=1.15.0 in c:\\users\\manshi\\appdata\\local\\programs\\python\\python38\\lib\\site-packages (from tensorflow) (1.15.0)\n",
      "Requirement already satisfied: opt-einsum~=3.3.0 in c:\\users\\manshi\\appdata\\local\\programs\\python\\python38\\lib\\site-packages (from tensorflow) (3.3.0)\n",
      "Requirement already satisfied: h5py~=2.10.0 in c:\\users\\manshi\\appdata\\local\\programs\\python\\python38\\lib\\site-packages (from tensorflow) (2.10.0)\n",
      "Requirement already satisfied: gast==0.3.3 in c:\\users\\manshi\\appdata\\local\\programs\\python\\python38\\lib\\site-packages (from tensorflow) (0.3.3)\n",
      "Requirement already satisfied: werkzeug>=0.11.15 in c:\\users\\manshi\\appdata\\local\\programs\\python\\python38\\lib\\site-packages (from tensorboard~=2.4->tensorflow) (1.0.1)\n",
      "Requirement already satisfied: markdown>=2.6.8 in c:\\users\\manshi\\appdata\\local\\programs\\python\\python38\\lib\\site-packages (from tensorboard~=2.4->tensorflow) (3.3.3)\n",
      "Requirement already satisfied: google-auth-oauthlib<0.5,>=0.4.1 in c:\\users\\manshi\\appdata\\local\\programs\\python\\python38\\lib\\site-packages (from tensorboard~=2.4->tensorflow) (0.4.2)\n",
      "Requirement already satisfied: google-auth<2,>=1.6.3 in c:\\users\\manshi\\appdata\\local\\programs\\python\\python38\\lib\\site-packages (from tensorboard~=2.4->tensorflow) (1.24.0)\n",
      "Requirement already satisfied: setuptools>=41.0.0 in c:\\users\\manshi\\appdata\\local\\programs\\python\\python38\\lib\\site-packages (from tensorboard~=2.4->tensorflow) (49.2.1)\n",
      "Requirement already satisfied: requests<3,>=2.21.0 in c:\\users\\manshi\\appdata\\local\\programs\\python\\python38\\lib\\site-packages (from tensorboard~=2.4->tensorflow) (2.25.1)\n",
      "Requirement already satisfied: tensorboard-plugin-wit>=1.6.0 in c:\\users\\manshi\\appdata\\local\\programs\\python\\python38\\lib\\site-packages (from tensorboard~=2.4->tensorflow) (1.7.0)\n",
      "Requirement already satisfied: requests-oauthlib>=0.7.0 in c:\\users\\manshi\\appdata\\local\\programs\\python\\python38\\lib\\site-packages (from google-auth-oauthlib<0.5,>=0.4.1->tensorboard~=2.4->tensorflow) (1.3.0)\n",
      "Requirement already satisfied: pyasn1-modules>=0.2.1 in c:\\users\\manshi\\appdata\\local\\programs\\python\\python38\\lib\\site-packages (from google-auth<2,>=1.6.3->tensorboard~=2.4->tensorflow) (0.2.8)\n",
      "Requirement already satisfied: rsa<5,>=3.1.4; python_version >= \"3.6\" in c:\\users\\manshi\\appdata\\local\\programs\\python\\python38\\lib\\site-packages (from google-auth<2,>=1.6.3->tensorboard~=2.4->tensorflow) (4.6)\n",
      "Requirement already satisfied: cachetools<5.0,>=2.0.0 in c:\\users\\manshi\\appdata\\local\\programs\\python\\python38\\lib\\site-packages (from google-auth<2,>=1.6.3->tensorboard~=2.4->tensorflow) (4.2.0)\n",
      "Requirement already satisfied: chardet<5,>=3.0.2 in c:\\users\\manshi\\appdata\\local\\programs\\python\\python38\\lib\\site-packages (from requests<3,>=2.21.0->tensorboard~=2.4->tensorflow) (4.0.0)\n",
      "Requirement already satisfied: urllib3<1.27,>=1.21.1 in c:\\users\\manshi\\appdata\\local\\programs\\python\\python38\\lib\\site-packages (from requests<3,>=2.21.0->tensorboard~=2.4->tensorflow) (1.26.2)\n",
      "Requirement already satisfied: certifi>=2017.4.17 in c:\\users\\manshi\\appdata\\local\\programs\\python\\python38\\lib\\site-packages (from requests<3,>=2.21.0->tensorboard~=2.4->tensorflow) (2020.12.5)\n",
      "Requirement already satisfied: idna<3,>=2.5 in c:\\users\\manshi\\appdata\\local\\programs\\python\\python38\\lib\\site-packages (from requests<3,>=2.21.0->tensorboard~=2.4->tensorflow) (2.10)\n",
      "Requirement already satisfied: oauthlib>=3.0.0 in c:\\users\\manshi\\appdata\\local\\programs\\python\\python38\\lib\\site-packages (from requests-oauthlib>=0.7.0->google-auth-oauthlib<0.5,>=0.4.1->tensorboard~=2.4->tensorflow) (3.1.0)\n",
      "Requirement already satisfied: pyasn1<0.5.0,>=0.4.6 in c:\\users\\manshi\\appdata\\local\\programs\\python\\python38\\lib\\site-packages (from pyasn1-modules>=0.2.1->google-auth<2,>=1.6.3->tensorboard~=2.4->tensorflow) (0.4.8)\n",
      "Note: you may need to restart the kernel to use updated packages.\n"
     ]
    },
    {
     "name": "stderr",
     "output_type": "stream",
     "text": [
      "WARNING: You are using pip version 20.2.3; however, version 20.3.3 is available.\n",
      "You should consider upgrading via the 'c:\\users\\manshi\\appdata\\local\\programs\\python\\python38\\python.exe -m pip install --upgrade pip' command.\n"
     ]
    }
   ],
   "source": [
    "pip install tensorflow"
   ]
  },
  {
   "cell_type": "code",
   "execution_count": 5,
   "metadata": {},
   "outputs": [
    {
     "name": "stdout",
     "output_type": "stream",
     "text": [
      "Collecting pip\n",
      "  Using cached pip-20.3.3-py2.py3-none-any.whl (1.5 MB)\n",
      "Installing collected packages: pip\n",
      "  Attempting uninstall: pip\n",
      "    Found existing installation: pip 20.2.3\n",
      "    Uninstalling pip-20.2.3:\n",
      "      Successfully uninstalled pip-20.2.3\n",
      "Successfully installed pip-20.3.3\n",
      "Note: you may need to restart the kernel to use updated packages.\n"
     ]
    }
   ],
   "source": [
    "pip install --upgrade pip"
   ]
  },
  {
   "cell_type": "code",
   "execution_count": 7,
   "metadata": {},
   "outputs": [
    {
     "name": "stdout",
     "output_type": "stream",
     "text": [
      "Collecting keras\n",
      "  Using cached Keras-2.4.3-py2.py3-none-any.whl (36 kB)\n",
      "Requirement already satisfied: h5py in c:\\users\\manshi\\appdata\\local\\programs\\python\\python38\\lib\\site-packages (from keras) (2.10.0)\n",
      "Requirement already satisfied: numpy>=1.9.1 in c:\\users\\manshi\\appdata\\local\\programs\\python\\python38\\lib\\site-packages (from keras) (1.19.5)\n",
      "Collecting scipy>=0.14\n",
      "  Downloading scipy-1.6.0-cp38-cp38-win_amd64.whl (32.7 MB)\n",
      "Requirement already satisfied: six in c:\\users\\manshi\\appdata\\local\\programs\\python\\python38\\lib\\site-packages (from h5py->keras) (1.15.0)\n",
      "Collecting pyyaml\n",
      "  Downloading PyYAML-5.3.1-cp38-cp38-win_amd64.whl (219 kB)\n",
      "Installing collected packages: scipy, pyyaml, keras\n",
      "Successfully installed keras-2.4.3 pyyaml-5.3.1 scipy-1.6.0\n",
      "Note: you may need to restart the kernel to use updated packages.\n"
     ]
    }
   ],
   "source": [
    "pip install keras"
   ]
  },
  {
   "cell_type": "code",
   "execution_count": 8,
   "metadata": {},
   "outputs": [
    {
     "name": "stdout",
     "output_type": "stream",
     "text": [
      "Collecting pandas\n",
      "  Downloading pandas-1.2.0-cp38-cp38-win_amd64.whl (9.3 MB)\n",
      "Requirement already satisfied: pytz>=2017.3 in c:\\users\\manshi\\appdata\\local\\programs\\python\\python38\\lib\\site-packages (from pandas) (2020.5)\n",
      "Requirement already satisfied: python-dateutil>=2.7.3 in c:\\users\\manshi\\appdata\\local\\programs\\python\\python38\\lib\\site-packages (from pandas) (2.8.1)\n",
      "Requirement already satisfied: numpy>=1.16.5 in c:\\users\\manshi\\appdata\\local\\programs\\python\\python38\\lib\\site-packages (from pandas) (1.19.5)\n",
      "Requirement already satisfied: six>=1.5 in c:\\users\\manshi\\appdata\\local\\programs\\python\\python38\\lib\\site-packages (from python-dateutil>=2.7.3->pandas) (1.15.0)\n",
      "Installing collected packages: pandas\n",
      "Successfully installed pandas-1.2.0\n",
      "Note: you may need to restart the kernel to use updated packages.\n"
     ]
    }
   ],
   "source": [
    "pip install pandas"
   ]
  },
  {
   "cell_type": "code",
   "execution_count": 9,
   "metadata": {},
   "outputs": [
    {
     "name": "stdout",
     "output_type": "stream",
     "text": [
      "Requirement already satisfied: numpy in c:\\users\\manshi\\appdata\\local\\programs\\python\\python38\\lib\\site-packages (1.19.5)\n",
      "Note: you may need to restart the kernel to use updated packages.\n"
     ]
    }
   ],
   "source": [
    "pip install numpy"
   ]
  },
  {
   "cell_type": "code",
   "execution_count": 10,
   "metadata": {},
   "outputs": [
    {
     "name": "stdout",
     "output_type": "stream",
     "text": [
      "Collecting matplotlib\n",
      "  Downloading matplotlib-3.3.3-cp38-cp38-win_amd64.whl (8.5 MB)\n",
      "Requirement already satisfied: python-dateutil>=2.1 in c:\\users\\manshi\\appdata\\local\\programs\\python\\python38\\lib\\site-packages (from matplotlib) (2.8.1)\n",
      "Requirement already satisfied: numpy>=1.15 in c:\\users\\manshi\\appdata\\local\\programs\\python\\python38\\lib\\site-packages (from matplotlib) (1.19.5)\n",
      "Requirement already satisfied: pyparsing!=2.0.4,!=2.1.2,!=2.1.6,>=2.0.3 in c:\\users\\manshi\\appdata\\local\\programs\\python\\python38\\lib\\site-packages (from matplotlib) (2.4.7)\n",
      "Collecting cycler>=0.10\n",
      "  Using cached cycler-0.10.0-py2.py3-none-any.whl (6.5 kB)\n",
      "Requirement already satisfied: six in c:\\users\\manshi\\appdata\\local\\programs\\python\\python38\\lib\\site-packages (from cycler>=0.10->matplotlib) (1.15.0)\n",
      "Collecting kiwisolver>=1.0.1\n",
      "  Downloading kiwisolver-1.3.1-cp38-cp38-win_amd64.whl (51 kB)\n",
      "Collecting pillow>=6.2.0\n",
      "  Downloading Pillow-8.1.0-cp38-cp38-win_amd64.whl (2.2 MB)\n",
      "Installing collected packages: pillow, kiwisolver, cycler, matplotlib\n",
      "Successfully installed cycler-0.10.0 kiwisolver-1.3.1 matplotlib-3.3.3 pillow-8.1.0\n",
      "Note: you may need to restart the kernel to use updated packages.\n"
     ]
    }
   ],
   "source": [
    "pip install matplotlib"
   ]
  },
  {
   "cell_type": "code",
   "execution_count": 11,
   "metadata": {},
   "outputs": [
    {
     "name": "stdout",
     "output_type": "stream",
     "text": [
      "All files imported!\n"
     ]
    }
   ],
   "source": [
    "import emoji\n",
    "from keras.models import Sequential\n",
    "from keras.layers import *\n",
    "from keras.utils import np_utils\n",
    "import pandas as pd\n",
    "import numpy as np\n",
    "import matplotlib.pyplot as plt\n",
    "from keras.callbacks import EarlyStopping , ModelCheckpoint\n",
    "from keras.models import load_model\n",
    "print(\"All files imported!\")"
   ]
  },
  {
   "cell_type": "code",
   "execution_count": 12,
   "metadata": {},
   "outputs": [],
   "source": [
    "emoji_dictionary = {\n",
    "    '0' : '\\u2764\\uFE0F',\n",
    "    '1' : ':baseball:',\n",
    "    '2' : ':grinning_face_with_big_eyes:',\n",
    "    '3' : ':disappointed_face:',\n",
    "    '4' : ':fork_and_knife:'\n",
    "}"
   ]
  },
  {
   "cell_type": "code",
   "execution_count": 13,
   "metadata": {},
   "outputs": [
    {
     "name": "stdout",
     "output_type": "stream",
     "text": [
      "0 ❤️\n",
      "1 ⚾\n",
      "2 😃\n",
      "3 😞\n",
      "4 🍴\n"
     ]
    }
   ],
   "source": [
    "for i in emoji_dictionary:\n",
    "    print(i, emoji.emojize(emoji_dictionary[i]))"
   ]
  },
  {
   "cell_type": "code",
   "execution_count": 14,
   "metadata": {},
   "outputs": [],
   "source": [
    "train_emoji = pd.read_csv(\"Datasets/train_emoji.csv\", header=None).values"
   ]
  },
  {
   "cell_type": "code",
   "execution_count": 16,
   "metadata": {},
   "outputs": [
    {
     "data": {
      "text/plain": [
       "array([['never talk to me again', 3, nan, nan],\n",
       "       ['I am proud of your achievements', 2, nan, nan],\n",
       "       ['It is the worst day in my life', 3, nan, nan],\n",
       "       ['Miss you so much', 0, nan, ' [0]'],\n",
       "       ['food is life', 4, nan, nan],\n",
       "       ['Stop saying bullshit', 3, nan, nan],\n",
       "       ['congratulations on your acceptance', 2, nan, nan],\n",
       "       ['The assignment is too long ', 3, nan, nan],\n",
       "       ['I want to go play', 1, nan, ' [3]'],\n",
       "       ['she did not answer my text ', 3, nan, nan],\n",
       "       ['Your stupidity has no limit', 3, nan, nan],\n",
       "       ['how many points did he score', 1, nan, nan],\n",
       "       ['my algorithm performs poorly', 3, nan, nan],\n",
       "       ['I got approved', 2, nan, nan],\n",
       "       ['Stop shouting at me', 3, nan, nan],\n",
       "       ['Sounds like a fun plan ha ha', 2, nan, nan],\n",
       "       ['no one likes him', 3, nan, nan],\n",
       "       ['the game just finished', 1, nan, ' [2]'],\n",
       "       ['I will celebrate soon', 2, nan, nan],\n",
       "       ['So sad you are not coming', 3, nan, nan],\n",
       "       ['She is my dearest love', 0, nan, ' [1]'],\n",
       "       ['Good job', 2, nan, ' [4]'],\n",
       "       ['It was funny lol', 2, nan, nan],\n",
       "       ['candy is life ', 2, nan, nan],\n",
       "       ['The chicago cubs won again', 1, nan, nan],\n",
       "       ['I am hungry', 4, nan, nan],\n",
       "       ['I am so excited to see you after so long', 2, nan, nan],\n",
       "       ['you did well on you exam', 2, nan, nan],\n",
       "       ['lets brunch some day', 4, nan, nan],\n",
       "       ['he is so cute', 0, nan, nan],\n",
       "       ['How dare you ask that', 3, nan, nan],\n",
       "       ['do you want to join me for dinner ', 4, nan, nan],\n",
       "       ['I said yes', 2, nan, nan],\n",
       "       ['she is attractive', 0, nan, nan],\n",
       "       ['you suck', 3, nan, nan],\n",
       "       ['she smiles a lot', 2, nan, nan],\n",
       "       ['he is laughing', 2, nan, nan],\n",
       "       ['she takes forever to get ready ', 3, nan, nan],\n",
       "       ['French macaroon is so tasty', 4, nan, nan],\n",
       "       ['we made it', 2, nan, nan],\n",
       "       ['I am excited', 2, nan, nan],\n",
       "       ['I adore my dogs', 0, nan, nan],\n",
       "       ['Congratulations', 2, nan, nan],\n",
       "       ['this girl was mean', 3, nan, nan],\n",
       "       ['you two are cute', 0, nan, nan],\n",
       "       ['my code is working but the grader gave me zero', 3, nan, nan],\n",
       "       ['this joke is killing me haha', 2, nan, nan],\n",
       "       ['do you like pizza ', 4, nan, nan],\n",
       "       ['you got a down grade', 3, nan, nan],\n",
       "       ['I missed you', 0, nan, nan],\n",
       "       ['I think I will end up alone', 3, nan, nan],\n",
       "       ['I got humiliated by my sister', 3, nan, nan],\n",
       "       ['you are awful', 3, nan, nan],\n",
       "       ['I cooked meat', 4, nan, nan],\n",
       "       ['This is so funny', 2, nan, nan],\n",
       "       ['lets exercise', 1, nan, nan]], dtype=object)"
      ]
     },
     "execution_count": 16,
     "metadata": {},
     "output_type": "execute_result"
    }
   ],
   "source": [
    "train_emoji[:56]"
   ]
  },
  {
   "cell_type": "code",
   "execution_count": 17,
   "metadata": {},
   "outputs": [],
   "source": [
    "train_X = train_emoji[0]\n",
    "train_Y = train_emoji[1]"
   ]
  },
  {
   "cell_type": "code",
   "execution_count": 26,
   "metadata": {},
   "outputs": [
    {
     "data": {
      "text/plain": [
       "array(['I am proud of your achievements', 2, nan, nan], dtype=object)"
      ]
     },
     "execution_count": 26,
     "metadata": {},
     "output_type": "execute_result"
    }
   ],
   "source": [
    "train_Y[0:5]"
   ]
  },
  {
   "cell_type": "code",
   "execution_count": 29,
   "metadata": {},
   "outputs": [],
   "source": [
    "X_train = pd.read_csv(\"manshi/train_emoji.csv\", header=None).values\n",
    "y_train = pd.read_csv(\"manshi/train_emoji1.csv\", header=None).values"
   ]
  },
  {
   "cell_type": "code",
   "execution_count": 31,
   "metadata": {},
   "outputs": [
    {
     "data": {
      "text/plain": [
       "array([['4 3 2 2 2 2 3 2 4 2 1 3 3 3 1 3 3 2 3 4 0 2 4 3 3 3 1 0 1 2 0 1 3 2 2 1 2 4 4 2 1 0 0 1 2 0 2 2 3 3 3 0 3 2 2 4']],\n",
       "      dtype=object)"
      ]
     },
     "execution_count": 31,
     "metadata": {},
     "output_type": "execute_result"
    }
   ],
   "source": [
    "y_train[0:5]"
   ]
  },
  {
   "cell_type": "code",
   "execution_count": 32,
   "metadata": {},
   "outputs": [],
   "source": [
    "flatten = lambda l: [item for sublist in l for item in sublist]"
   ]
  },
  {
   "cell_type": "code",
   "execution_count": 33,
   "metadata": {},
   "outputs": [],
   "source": [
    "def read_X_data(X_train):\n",
    "    data = []\n",
    "\n",
    "    for i in range(len(X_train)):\n",
    "        data.append([x for x in X_train[i][0].split(\"\\'\") if x not in [\" \",\"\"]])\n",
    "\n",
    "    \n",
    "    X_train = flatten(data)[:-1]\n",
    "    X_train = np.array(X_train)\n",
    "    \n",
    "    return X_train"
   ]
  },
  {
   "cell_type": "code",
   "execution_count": 34,
   "metadata": {},
   "outputs": [],
   "source": [
    "def read_y_data(y_train):\n",
    "    y_train = flatten(y_train)\n",
    "    y_train = [x.split() for x in y_train]\n",
    "    y_train = np.array(flatten(y_train))\n",
    "    \n",
    "    return y_train"
   ]
  },
  {
   "cell_type": "code",
   "execution_count": 35,
   "metadata": {},
   "outputs": [],
   "source": [
    "X_train = read_X_data(X_train)"
   ]
  },
  {
   "cell_type": "code",
   "execution_count": 36,
   "metadata": {},
   "outputs": [],
   "source": [
    "y_train = read_y_data(y_train)"
   ]
  },
  {
   "cell_type": "code",
   "execution_count": 38,
   "metadata": {},
   "outputs": [],
   "source": [
    "def process_x_y_data(X,y):\n",
    "    d= []\n",
    "    for i in X:\n",
    "        d.append(i.split())\n",
    "    X = np.array(d)\n",
    "    y = np_utils.to_categorical(y)\n",
    "    \n",
    "    return X,y"
   ]
  },
  {
   "cell_type": "code",
   "execution_count": 42,
   "metadata": {},
   "outputs": [
    {
     "name": "stdout",
     "output_type": "stream",
     "text": [
      "I want to eat\t  emoji= 🍴\n",
      "he did not answer\t  emoji= 😞\n",
      "he got a very nice raise\t  emoji= 😃\n",
      "she got me a nice present\t  emoji= 😃\n",
      "ha ha ha it was so funny\t  emoji= 😃\n",
      "he is a good friend\t  emoji= 😃\n",
      "I am upset\t  emoji= 😞\n",
      "We had such a lovely dinner tonight\t  emoji= 😃\n",
      "where is the food\t  emoji= 🍴\n",
      "Stop making this joke ha ha ha\t  emoji= 😃\n",
      "where is the ball\t  emoji= ⚾\n",
      "work is hard\t  emoji= 😞\n",
      "This girl is messing with me\t  emoji= 😞\n",
      "are you serious  emoji= 😞\n",
      "Let us go play baseball\t  emoji= ⚾\n",
      "This stupid grader is not working \t  emoji= 😞\n",
      "work is horrible\t  emoji= 😞\n",
      "Congratulation for having a baby\t  emoji= 😃\n",
      "stop pissing me off  emoji= 😞\n",
      "any suggestions for dinner\t  emoji= 🍴\n",
      "I love taking breaks\t  emoji= ❤️\n",
      "you brighten my day\t  emoji= 😃\n",
      "I boiled rice\t  emoji= 🍴\n",
      "she is a bully\t  emoji= 😞\n",
      "Why are you feeling bad\t  emoji= 😞\n",
      "I am upset\t  emoji= 😞\n",
      "give me the ball  emoji= ⚾\n",
      "My grandmother is the love of my life\t  emoji= ❤️\n",
      "enjoy your game  emoji= ⚾\n",
      "valentine day is near\t  emoji= 😃\n",
      "I miss you so much\t  emoji= ❤️\n",
      "throw the ball\t  emoji= ⚾\n",
      "My life is so boring\t  emoji= 😞\n",
      "she said yes\t  emoji= 😃\n",
      "will you be my valentine\t  emoji= 😃\n",
      "he can pitch really well\t  emoji= ⚾\n",
      "dance with me\t  emoji= 😃\n",
      "I am hungry  emoji= 🍴\n",
      "See you at the restaurant\t  emoji= 🍴\n",
      "I like to laugh\t  emoji= 😃\n",
      "I will  run  emoji= ⚾\n",
      "I like your jacket \t  emoji= ❤️\n",
      "i miss her\t  emoji= ❤️\n",
      "what is your favorite baseball game\t  emoji= ⚾\n",
      "Good job\t  emoji= 😃\n",
      "I love you to the stars and back\t  emoji= ❤️\n",
      "What you did was awesome\t  emoji= 😃\n",
      "ha ha ha lol\t  emoji= 😃\n",
      "I do not want to joke\t  emoji= 😞\n",
      "go away\t  emoji= 😞\n",
      "yesterday we lost again\t  emoji= 😞\n",
      "family is all I have\t  emoji= ❤️\n",
      "you are failing this exercise\t  emoji= 😞\n",
      "Good joke\t  emoji= 😃\n"
     ]
    }
   ],
   "source": [
    "for i in range(54):\n",
    "    print(X_train[i], \" emoji=\", emoji.emojize(emoji_dictionary[y_train[i]]))"
   ]
  },
  {
   "cell_type": "code",
   "execution_count": 43,
   "metadata": {},
   "outputs": [
    {
     "name": "stderr",
     "output_type": "stream",
     "text": [
      "<ipython-input-38-aeab83adb9a3>:5: VisibleDeprecationWarning: Creating an ndarray from ragged nested sequences (which is a list-or-tuple of lists-or-tuples-or ndarrays with different lengths or shapes) is deprecated. If you meant to do this, you must specify 'dtype=object' when creating the ndarray\n",
      "  X = np.array(d)\n"
     ]
    }
   ],
   "source": [
    "X_train,y_train = process_x_y_data(X_train,y_train)"
   ]
  },
  {
   "cell_type": "code",
   "execution_count": 44,
   "metadata": {},
   "outputs": [],
   "source": [
    "f  = open(\"glove.6B.50D.txt\", encoding=\"utf8\")"
   ]
  },
  {
   "cell_type": "code",
   "execution_count": 45,
   "metadata": {},
   "outputs": [],
   "source": [
    "embeddings_index = {}\n",
    "\n",
    "for line in f:\n",
    "    values  = line.split()\n",
    "    word = values[0]\n",
    "    coefs = np.asarray(values[1:], dtype='float')\n",
    "    \n",
    "    embeddings_index[word] = coefs\n",
    "f.close()"
   ]
  },
  {
   "cell_type": "code",
   "execution_count": 46,
   "metadata": {},
   "outputs": [],
   "source": [
    "def embedding_output(X):\n",
    "    maxLen = 10\n",
    "    emb_dim = 50\n",
    "    embedding_out = np.zeros((X.shape[0],maxLen,emb_dim))\n",
    "    \n",
    "    for i in range(X.shape[0]):\n",
    "#         X[i] = X[i].split()\n",
    "        \n",
    "        for j in range(len(X[i])):\n",
    "            # go to every word in current (i) word\n",
    "            try:\n",
    "                embedding_out[i][j] = embeddings_index[X[i][j].lower()]\n",
    "            except:\n",
    "                embedding_out[i][j] = np.zeros((50,))\n",
    "    return embedding_out"
   ]
  },
  {
   "cell_type": "code",
   "execution_count": 47,
   "metadata": {},
   "outputs": [],
   "source": [
    "embedded_X_train = embedding_output(X_train)"
   ]
  },
  {
   "cell_type": "code",
   "execution_count": 48,
   "metadata": {},
   "outputs": [
    {
     "data": {
      "text/plain": [
       "(55, 10, 50)"
      ]
     },
     "execution_count": 48,
     "metadata": {},
     "output_type": "execute_result"
    }
   ],
   "source": [
    "embedded_X_train.shape"
   ]
  },
  {
   "cell_type": "code",
   "execution_count": 49,
   "metadata": {},
   "outputs": [
    {
     "name": "stdout",
     "output_type": "stream",
     "text": [
      "Model: \"sequential\"\n",
      "_________________________________________________________________\n",
      "Layer (type)                 Output Shape              Param #   \n",
      "=================================================================\n",
      "lstm (LSTM)                  (None, 10, 64)            29440     \n",
      "_________________________________________________________________\n",
      "dropout (Dropout)            (None, 10, 64)            0         \n",
      "_________________________________________________________________\n",
      "lstm_1 (LSTM)                (None, 64)                33024     \n",
      "_________________________________________________________________\n",
      "dropout_1 (Dropout)          (None, 64)                0         \n",
      "_________________________________________________________________\n",
      "dense (Dense)                (None, 5)                 325       \n",
      "=================================================================\n",
      "Total params: 62,789\n",
      "Trainable params: 62,789\n",
      "Non-trainable params: 0\n",
      "_________________________________________________________________\n"
     ]
    }
   ],
   "source": [
    "model = Sequential()\n",
    "model.add(LSTM(64, input_shape=(10,50),return_sequences=True)) # max 10 words per sentence, each of 50 dim\n",
    "model.add(Dropout(0.5))\n",
    "model.add((LSTM(64,return_sequences=False)))\n",
    "model.add(Dropout(0.5))\n",
    "model.add(Dense(5, activation=\"softmax\"))\n",
    "model.compile(loss=\"categorical_crossentropy\", optimizer=\"adam\", metrics =[\"accuracy\"])\n",
    "model.summary()"
   ]
  },
  {
   "cell_type": "code",
   "execution_count": 50,
   "metadata": {},
   "outputs": [
    {
     "name": "stdout",
     "output_type": "stream",
     "text": [
      "Epoch 1/100\n",
      "1/1 [==============================] - 27s 27s/step - loss: 1.6220 - accuracy: 0.0455 - val_loss: 1.6093 - val_accuracy: 0.0909\n",
      "Epoch 2/100\n",
      "1/1 [==============================] - 0s 179ms/step - loss: 1.5987 - accuracy: 0.2500 - val_loss: 1.5848 - val_accuracy: 0.3636\n",
      "Epoch 3/100\n",
      "1/1 [==============================] - 0s 155ms/step - loss: 1.5797 - accuracy: 0.3636 - val_loss: 1.5611 - val_accuracy: 0.4545\n",
      "Epoch 4/100\n",
      "1/1 [==============================] - 0s 132ms/step - loss: 1.5633 - accuracy: 0.3636 - val_loss: 1.5394 - val_accuracy: 0.4545\n",
      "Epoch 5/100\n",
      "1/1 [==============================] - 0s 204ms/step - loss: 1.5353 - accuracy: 0.4091 - val_loss: 1.5180 - val_accuracy: 0.4545\n",
      "Epoch 6/100\n",
      "1/1 [==============================] - 0s 165ms/step - loss: 1.5332 - accuracy: 0.3182 - val_loss: 1.4992 - val_accuracy: 0.5455\n",
      "Epoch 7/100\n",
      "1/1 [==============================] - 0s 187ms/step - loss: 1.5098 - accuracy: 0.2955 - val_loss: 1.4812 - val_accuracy: 0.5455\n",
      "Epoch 8/100\n",
      "1/1 [==============================] - 0s 283ms/step - loss: 1.4978 - accuracy: 0.3636 - val_loss: 1.4633 - val_accuracy: 0.4545\n",
      "Epoch 9/100\n",
      "1/1 [==============================] - 0s 156ms/step - loss: 1.4848 - accuracy: 0.3864 - val_loss: 1.4471 - val_accuracy: 0.4545\n",
      "Epoch 10/100\n",
      "1/1 [==============================] - 0s 161ms/step - loss: 1.4626 - accuracy: 0.4318 - val_loss: 1.4332 - val_accuracy: 0.4545\n",
      "Epoch 11/100\n",
      "1/1 [==============================] - 0s 166ms/step - loss: 1.4735 - accuracy: 0.3182 - val_loss: 1.4222 - val_accuracy: 0.4545\n",
      "Epoch 12/100\n",
      "1/1 [==============================] - 0s 160ms/step - loss: 1.4522 - accuracy: 0.4091 - val_loss: 1.4138 - val_accuracy: 0.4545\n",
      "Epoch 13/100\n",
      "1/1 [==============================] - 1s 545ms/step - loss: 1.4463 - accuracy: 0.3864 - val_loss: 1.4079 - val_accuracy: 0.4545\n",
      "Epoch 14/100\n",
      "1/1 [==============================] - 0s 193ms/step - loss: 1.4233 - accuracy: 0.3864 - val_loss: 1.4053 - val_accuracy: 0.4545\n",
      "Epoch 15/100\n",
      "1/1 [==============================] - 0s 475ms/step - loss: 1.4199 - accuracy: 0.3636 - val_loss: 1.4049 - val_accuracy: 0.4545\n",
      "Epoch 16/100\n",
      "1/1 [==============================] - 0s 211ms/step - loss: 1.4179 - accuracy: 0.3636 - val_loss: 1.4054 - val_accuracy: 0.4545\n",
      "Epoch 17/100\n",
      "1/1 [==============================] - 1s 622ms/step - loss: 1.3924 - accuracy: 0.4545 - val_loss: 1.4087 - val_accuracy: 0.5455\n",
      "Epoch 18/100\n",
      "1/1 [==============================] - 0s 189ms/step - loss: 1.3179 - accuracy: 0.4773 - val_loss: 1.4125 - val_accuracy: 0.5455\n",
      "Epoch 19/100\n",
      "1/1 [==============================] - 0s 120ms/step - loss: 1.3096 - accuracy: 0.5227 - val_loss: 1.4147 - val_accuracy: 0.5455\n",
      "Epoch 20/100\n",
      "1/1 [==============================] - 0s 117ms/step - loss: 1.2733 - accuracy: 0.4545 - val_loss: 1.4131 - val_accuracy: 0.4545\n",
      "Epoch 21/100\n",
      "1/1 [==============================] - 0s 166ms/step - loss: 1.2934 - accuracy: 0.5682 - val_loss: 1.4119 - val_accuracy: 0.4545\n",
      "Epoch 22/100\n",
      "1/1 [==============================] - 1s 669ms/step - loss: 1.2696 - accuracy: 0.5000 - val_loss: 1.4103 - val_accuracy: 0.4545\n",
      "Epoch 23/100\n",
      "1/1 [==============================] - 0s 271ms/step - loss: 1.1854 - accuracy: 0.6136 - val_loss: 1.3987 - val_accuracy: 0.4545\n",
      "Epoch 24/100\n",
      "1/1 [==============================] - 0s 181ms/step - loss: 1.1755 - accuracy: 0.6136 - val_loss: 1.3837 - val_accuracy: 0.4545\n",
      "Epoch 25/100\n",
      "1/1 [==============================] - 0s 139ms/step - loss: 1.1377 - accuracy: 0.6818 - val_loss: 1.3708 - val_accuracy: 0.3636\n",
      "Epoch 26/100\n",
      "1/1 [==============================] - 0s 131ms/step - loss: 1.1072 - accuracy: 0.6364 - val_loss: 1.3498 - val_accuracy: 0.4545\n",
      "Epoch 27/100\n",
      "1/1 [==============================] - 0s 156ms/step - loss: 1.0913 - accuracy: 0.6818 - val_loss: 1.3260 - val_accuracy: 0.4545\n",
      "Epoch 28/100\n",
      "1/1 [==============================] - 0s 149ms/step - loss: 1.0085 - accuracy: 0.7727 - val_loss: 1.3061 - val_accuracy: 0.4545\n",
      "Epoch 29/100\n",
      "1/1 [==============================] - 0s 145ms/step - loss: 0.9390 - accuracy: 0.7273 - val_loss: 1.2886 - val_accuracy: 0.4545\n",
      "Epoch 30/100\n",
      "1/1 [==============================] - 0s 275ms/step - loss: 0.9305 - accuracy: 0.7273 - val_loss: 1.2739 - val_accuracy: 0.4545\n",
      "Epoch 31/100\n",
      "1/1 [==============================] - 0s 154ms/step - loss: 0.8511 - accuracy: 0.7500 - val_loss: 1.2670 - val_accuracy: 0.3636\n",
      "Epoch 32/100\n",
      "1/1 [==============================] - 0s 123ms/step - loss: 0.8613 - accuracy: 0.6818 - val_loss: 1.2794 - val_accuracy: 0.3636\n",
      "Epoch 33/100\n",
      "1/1 [==============================] - 0s 145ms/step - loss: 0.7741 - accuracy: 0.7500 - val_loss: 1.2996 - val_accuracy: 0.3636\n",
      "Epoch 34/100\n",
      "1/1 [==============================] - 0s 162ms/step - loss: 0.6495 - accuracy: 0.8182 - val_loss: 1.3061 - val_accuracy: 0.3636\n",
      "Epoch 35/100\n",
      "1/1 [==============================] - 0s 139ms/step - loss: 0.7130 - accuracy: 0.7273 - val_loss: 1.2651 - val_accuracy: 0.3636\n",
      "Epoch 36/100\n",
      "1/1 [==============================] - 0s 154ms/step - loss: 0.6823 - accuracy: 0.7500 - val_loss: 1.2357 - val_accuracy: 0.4545\n",
      "Epoch 37/100\n",
      "1/1 [==============================] - 0s 151ms/step - loss: 0.5863 - accuracy: 0.8182 - val_loss: 1.2284 - val_accuracy: 0.4545\n",
      "Epoch 38/100\n",
      "1/1 [==============================] - 0s 168ms/step - loss: 0.6173 - accuracy: 0.8409 - val_loss: 1.2213 - val_accuracy: 0.3636\n",
      "Epoch 39/100\n",
      "1/1 [==============================] - 0s 210ms/step - loss: 0.5289 - accuracy: 0.8636 - val_loss: 1.2249 - val_accuracy: 0.4545\n",
      "Epoch 40/100\n",
      "1/1 [==============================] - 0s 193ms/step - loss: 0.4780 - accuracy: 0.8864 - val_loss: 1.2390 - val_accuracy: 0.4545\n",
      "Epoch 41/100\n",
      "1/1 [==============================] - 0s 139ms/step - loss: 0.4579 - accuracy: 0.8636 - val_loss: 1.2826 - val_accuracy: 0.4545\n",
      "Epoch 42/100\n",
      "1/1 [==============================] - 0s 134ms/step - loss: 0.4029 - accuracy: 0.9091 - val_loss: 1.3442 - val_accuracy: 0.4545\n",
      "Epoch 43/100\n",
      "1/1 [==============================] - 0s 169ms/step - loss: 0.3489 - accuracy: 0.9091 - val_loss: 1.3812 - val_accuracy: 0.4545\n",
      "Epoch 44/100\n",
      "1/1 [==============================] - 0s 147ms/step - loss: 0.2933 - accuracy: 0.9318 - val_loss: 1.5171 - val_accuracy: 0.4545\n",
      "Epoch 45/100\n",
      "1/1 [==============================] - 0s 132ms/step - loss: 0.2717 - accuracy: 0.8864 - val_loss: 1.6423 - val_accuracy: 0.4545\n",
      "Epoch 46/100\n",
      "1/1 [==============================] - 0s 152ms/step - loss: 0.1842 - accuracy: 0.9545 - val_loss: 1.7318 - val_accuracy: 0.4545\n",
      "Epoch 47/100\n",
      "1/1 [==============================] - 0s 149ms/step - loss: 0.2157 - accuracy: 0.9318 - val_loss: 1.6745 - val_accuracy: 0.4545\n",
      "Epoch 48/100\n",
      "1/1 [==============================] - 0s 150ms/step - loss: 0.1877 - accuracy: 0.9091 - val_loss: 1.8436 - val_accuracy: 0.4545\n"
     ]
    }
   ],
   "source": [
    "modelcheckpoint = ModelCheckpoint(\"best_model.h5\",save_best_only=True)\n",
    "earlystop = EarlyStopping(patience=10 , monitor='val_loss',restore_best_weights=True)\n",
    "\n",
    "hist = model.fit(embedded_X_train, y_train, epochs=100, batch_size=64, callbacks=[modelcheckpoint,earlystop], shuffle=True, validation_split=0.2)"
   ]
  },
  {
   "cell_type": "code",
   "execution_count": 51,
   "metadata": {},
   "outputs": [
    {
     "name": "stderr",
     "output_type": "stream",
     "text": [
      "<ipython-input-38-aeab83adb9a3>:5: VisibleDeprecationWarning: Creating an ndarray from ragged nested sequences (which is a list-or-tuple of lists-or-tuples-or ndarrays with different lengths or shapes) is deprecated. If you meant to do this, you must specify 'dtype=object' when creating the ndarray\n",
      "  X = np.array(d)\n",
      "<ipython-input-51-81f60fd91838>:15: VisibleDeprecationWarning: Creating an ndarray from ragged nested sequences (which is a list-or-tuple of lists-or-tuples-or ndarrays with different lengths or shapes) is deprecated. If you meant to do this, you must specify 'dtype=object' when creating the ndarray\n",
      "  X_test = np.array(a)\n"
     ]
    }
   ],
   "source": [
    "X_test = pd.read_csv(\"manshi/train_emoji.csv\", header=None).values\n",
    "y_test = pd.read_csv(\"manshi/train_emoji1.csv\", header=None).values\n",
    "\n",
    "X_test = read_X_data(X_test)\n",
    "y_test = read_y_data(y_test)\n",
    "\n",
    "X_test, y_test = process_x_y_data(X_test,y_test)\n",
    "\n",
    "for i in X_test:\n",
    "    i[-1] = i[-1].replace(\"\\\\t\",\"\", True)\n",
    "    \n",
    "    \n",
    "a = list(X_test)\n",
    "a.append(['I', 'did', 'not', 'have', 'breakfast'])\n",
    "X_test = np.array(a)    \n",
    "\n",
    "embedded_X_test = embedding_output(X_test)"
   ]
  },
  {
   "cell_type": "code",
   "execution_count": 52,
   "metadata": {},
   "outputs": [
    {
     "name": "stderr",
     "output_type": "stream",
     "text": [
      "c:\\users\\manshi\\appdata\\local\\programs\\python\\python38\\lib\\site-packages\\tensorflow\\python\\keras\\engine\\sequential.py:450: UserWarning: `model.predict_classes()` is deprecated and will be removed after 2021-01-01. Please use instead:* `np.argmax(model.predict(x), axis=-1)`,   if your model does multi-class classification   (e.g. if it uses a `softmax` last-layer activation).* `(model.predict(x) > 0.5).astype(\"int32\")`,   if your model does binary classification   (e.g. if it uses a `sigmoid` last-layer activation).\n",
      "  warnings.warn('`model.predict_classes()` is deprecated and '\n"
     ]
    }
   ],
   "source": [
    "pred = model.predict_classes(embedded_X_test)"
   ]
  },
  {
   "cell_type": "code",
   "execution_count": 53,
   "metadata": {},
   "outputs": [
    {
     "name": "stdout",
     "output_type": "stream",
     "text": [
      "2/2 [==============================] - 0s 10ms/step - loss: 0.6114 - accuracy: 0.7500\n"
     ]
    },
    {
     "data": {
      "text/plain": [
       "[0.6114044189453125, 0.75]"
      ]
     },
     "execution_count": 53,
     "metadata": {},
     "output_type": "execute_result"
    }
   ],
   "source": [
    "model.evaluate(embedded_X_test,y_test)"
   ]
  },
  {
   "cell_type": "code",
   "execution_count": 54,
   "metadata": {},
   "outputs": [
    {
     "name": "stdout",
     "output_type": "stream",
     "text": [
      "I want to eat\n",
      "actual label - 🍴\n",
      "predicted label - 🍴\n",
      "\n",
      "he did not answer\n",
      "actual label - 😞\n",
      "predicted label - 😞\n",
      "\n",
      "he got a very nice raise\n",
      "actual label - 😃\n",
      "predicted label - 😃\n",
      "\n",
      "she got me a nice present\n",
      "actual label - 😃\n",
      "predicted label - 😃\n",
      "\n",
      "ha ha ha it was so funny\n",
      "actual label - 😃\n",
      "predicted label - 😃\n",
      "\n",
      "he is a good friend\n",
      "actual label - 😃\n",
      "predicted label - 😃\n",
      "\n",
      "I am upset\n",
      "actual label - 😞\n",
      "predicted label - 😞\n",
      "\n",
      "We had such a lovely dinner tonight\n",
      "actual label - 😃\n",
      "predicted label - 😃\n",
      "\n",
      "where is the food\n",
      "actual label - 🍴\n",
      "predicted label - 🍴\n",
      "\n",
      "Stop making this joke ha ha ha\n",
      "actual label - 😃\n",
      "predicted label - 😃\n",
      "\n",
      "where is the ball\n",
      "actual label - ⚾\n",
      "predicted label - ⚾\n",
      "\n",
      "work is hard\n",
      "actual label - 😞\n",
      "predicted label - 😞\n",
      "\n",
      "This girl is messing with me\n",
      "actual label - 😞\n",
      "predicted label - 😞\n",
      "\n",
      "are you serious\n",
      "actual label - 😞\n",
      "predicted label - 😞\n",
      "\n",
      "Let us go play baseball\n",
      "actual label - ⚾\n",
      "predicted label - ⚾\n",
      "\n",
      "This stupid grader is not working\n",
      "actual label - 😞\n",
      "predicted label - 😞\n",
      "\n",
      "work is horrible\n",
      "actual label - 😞\n",
      "predicted label - 😞\n",
      "\n",
      "Congratulation for having a baby\n",
      "actual label - 😃\n",
      "predicted label - 😃\n",
      "\n",
      "stop pissing me off\n",
      "actual label - 😞\n",
      "predicted label - 😃\n",
      "\n",
      "any suggestions for dinner\n",
      "actual label - 🍴\n",
      "predicted label - 🍴\n",
      "\n",
      "I love taking breaks\n",
      "actual label - ❤️\n",
      "predicted label - 😃\n",
      "\n",
      "you brighten my day\n",
      "actual label - 😃\n",
      "predicted label - 😃\n",
      "\n",
      "I boiled rice\n",
      "actual label - 🍴\n",
      "predicted label - 🍴\n",
      "\n",
      "she is a bully\n",
      "actual label - 😞\n",
      "predicted label - 😞\n",
      "\n",
      "Why are you feeling bad\n",
      "actual label - 😞\n",
      "predicted label - 😞\n",
      "\n",
      "I am upset\n",
      "actual label - 😞\n",
      "predicted label - 😞\n",
      "\n",
      "give me the ball\n",
      "actual label - ⚾\n",
      "predicted label - ⚾\n",
      "\n",
      "My grandmother is the love of my life\n",
      "actual label - ❤️\n",
      "predicted label - 😃\n",
      "\n",
      "enjoy your game\n",
      "actual label - ⚾\n",
      "predicted label - ⚾\n",
      "\n",
      "valentine day is near\n",
      "actual label - 😃\n",
      "predicted label - 😃\n",
      "\n",
      "I miss you so much\n",
      "actual label - ❤️\n",
      "predicted label - ❤️\n",
      "\n",
      "throw the ball\n",
      "actual label - ⚾\n",
      "predicted label - ⚾\n",
      "\n",
      "My life is so boring\n",
      "actual label - 😞\n",
      "predicted label - 😞\n",
      "\n",
      "she said yes\n",
      "actual label - 😃\n",
      "predicted label - 😞\n",
      "\n",
      "will you be my valentine\n",
      "actual label - 😃\n",
      "predicted label - 😃\n",
      "\n",
      "he can pitch really well\n",
      "actual label - ⚾\n",
      "predicted label - ⚾\n",
      "\n",
      "dance with me\n",
      "actual label - 😃\n",
      "predicted label - 😃\n",
      "\n",
      "I am hungry\n",
      "actual label - 🍴\n",
      "predicted label - 😞\n",
      "\n",
      "See you at the restaurant\n",
      "actual label - 🍴\n",
      "predicted label - 🍴\n",
      "\n",
      "I like to laugh\n",
      "actual label - 😃\n",
      "predicted label - 😃\n",
      "\n",
      "I will run\n",
      "actual label - ⚾\n",
      "predicted label - ⚾\n",
      "\n",
      "I like your jacket\n",
      "actual label - ❤️\n",
      "predicted label - 😃\n",
      "\n",
      "i miss her\n",
      "actual label - ❤️\n",
      "predicted label - ❤️\n",
      "\n",
      "what is your favorite baseball game\n",
      "actual label - ⚾\n",
      "predicted label - ⚾\n",
      "\n",
      "Good job\n",
      "actual label - 😃\n",
      "predicted label - 😞\n",
      "\n",
      "I love you to the stars and back\n",
      "actual label - ❤️\n",
      "predicted label - 😃\n",
      "\n",
      "What you did was awesome\n",
      "actual label - 😃\n",
      "predicted label - 😞\n",
      "\n",
      "ha ha ha lol\n",
      "actual label - 😃\n",
      "predicted label - 😃\n",
      "\n",
      "I do not want to joke\n",
      "actual label - 😞\n",
      "predicted label - 😞\n",
      "\n",
      "go away\n",
      "actual label - 😞\n",
      "predicted label - ⚾\n",
      "\n",
      "yesterday we lost again\n",
      "actual label - 😞\n",
      "predicted label - 😃\n",
      "\n",
      "family is all I have\n",
      "actual label - ❤️\n",
      "predicted label - 😞\n",
      "\n",
      "you are failing this exercise\n",
      "actual label - 😞\n",
      "predicted label - 😞\n",
      "\n",
      "Good joke\n",
      "actual label - 😃\n",
      "predicted label - 😞\n",
      "\n",
      "You deserve this nice prize\n",
      "actual label - 😃\n",
      "predicted label - 😃\n",
      "\n"
     ]
    }
   ],
   "source": [
    "for i in range(55):\n",
    "    print(\" \".join(X_test[i]))\n",
    "    print(\"actual label -\", emoji.emojize(emoji_dictionary[str(y_test[i].argmax())]))\n",
    "    print(\"predicted label -\", emoji.emojize(emoji_dictionary[str(pred[i])]))\n",
    "    print()"
   ]
  },
  {
   "cell_type": "code",
   "execution_count": null,
   "metadata": {},
   "outputs": [],
   "source": []
  }
 ],
 "metadata": {
  "kernelspec": {
   "display_name": "Python 3",
   "language": "python",
   "name": "python3"
  },
  "language_info": {
   "codemirror_mode": {
    "name": "ipython",
    "version": 3
   },
   "file_extension": ".py",
   "mimetype": "text/x-python",
   "name": "python",
   "nbconvert_exporter": "python",
   "pygments_lexer": "ipython3",
   "version": "3.8.7"
  }
 },
 "nbformat": 4,
 "nbformat_minor": 4
}
